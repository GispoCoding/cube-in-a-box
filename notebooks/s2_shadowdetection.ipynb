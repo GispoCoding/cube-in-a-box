{
 "cells": [
  {
   "cell_type": "code",
   "execution_count": 3,
   "outputs": [],
   "source": [
    "import datacube\n",
    "import numpy as np\n",
    "\n",
    "import gdal\n",
    "gdal.UseExceptions()\n",
    "from typing import List\n",
    "\n",
    "\n",
    "def array_to_geotiff_multiband(fname: str, data: List[np.ndarray],\n",
    "                               geo_transform: tuple, projection: str,\n",
    "                               nodata_val=0, dtype=gdal.GDT_Float32):\n",
    "    \"\"\" Create a multiband GeoTIFF file with data from an array.\n",
    "    fname : output geotiff file path including extension\n",
    "    data : list of numpy arrays\n",
    "    geo_transform : Geotransform for output raster; e.g.\n",
    "    \"(upleft_x, x_size, x_rotation, upleft_y, y_rotation, y_size)\"\n",
    "    projection : WKT projection for output raster\n",
    "    nodata_val : Value to convert to nodata in the output raster; default 0\n",
    "    dtype : gdal dtype object, optional\n",
    "        Optionally set the dtype of the output raster; can be\n",
    "        useful when exporting an array of float or integer values. \"\"\"\n",
    "    driver = gdal.GetDriverByName('GTiff')\n",
    "    rows, cols = data[0].shape  # Create raster of given size and projection\n",
    "    dataset = driver.Create(fname, cols, rows, len(data), dtype)\n",
    "    dataset.SetGeoTransform(geo_transform)\n",
    "    dataset.SetProjection(projection)\n",
    "    for idx, d in enumerate(data):\n",
    "        band = dataset.GetRasterBand(idx + 1)\n",
    "        band.WriteArray(d)\n",
    "        band.SetNoDataValue(nodata_val)\n",
    "    dataset = None  # Close %%file"
   ],
   "metadata": {
    "collapsed": false,
    "pycharm": {
     "name": "#%%\n"
    }
   }
  },
  {
   "cell_type": "code",
   "execution_count": 5,
   "outputs": [],
   "source": [
    "dc = datacube.Datacube(app=\"s2-l1c-eu\")\n",
    "sets = dc.find_datasets(product=\"s2a_level1c_granule\")\n",
    "bands = ['B02', 'B03', 'B04']  # rgb"
   ],
   "metadata": {
    "collapsed": false,
    "pycharm": {
     "name": "#%%\n"
    }
   }
  },
  {
   "cell_type": "code",
   "execution_count": 6,
   "outputs": [
    {
     "name": "stdout",
     "output_type": "stream",
     "text": [
      "0 18.3903\n",
      "1 0.0\n",
      "2 0.0\n",
      "3 0.0\n",
      "4 0.0\n",
      "5 0.0\n",
      "6 0.0\n",
      "7 2.5419\n",
      "8 0.0\n",
      "9 0.0\n",
      "10 2.5041\n",
      "11 0.0\n",
      "12 0.0\n",
      "13 1.0532\n",
      "14 2.2702\n",
      "15 1.3851\n",
      "16 17.5413\n",
      "17 0.0\n",
      "18 98.8057\n",
      "19 97.0854\n",
      "20 0.0394\n",
      "21 1.1356\n",
      "22 94.3767\n",
      "23 1.3005\n",
      "24 22.2817\n"
     ]
    }
   ],
   "source": [
    "for idx, dataset in enumerate(sets):\n",
    "    print(idx, dataset.metadata_doc[\"properties\"][\"cloudy_pixel_percentage\"])"
   ],
   "metadata": {
    "collapsed": false,
    "pycharm": {
     "name": "#%%\n"
    }
   }
  },
  {
   "cell_type": "code",
   "execution_count": 7,
   "outputs": [
    {
     "data": {
      "text/plain": "{'tile_id': 'S2A_OPER_MSI_L1C_TL_EPAE_20201002T095127_A027574_T35PPM_N02.09',\n 'datetime': '2020-10-02T08:37:32.329132Z',\n 'eo:platform': 'SENTINEL-2A',\n 'eo:instrument': 'MSI',\n 'mean_sun_zenith': 24.0422336927737,\n 'odc:file_format': 'JPEG2000',\n 'odc:region_code': '35PPM',\n 'mean_sun_azimuth': 125.130263338263,\n 'cloudy_pixel_percentage': 17.5413}"
     },
     "execution_count": 7,
     "metadata": {},
     "output_type": "execute_result"
    }
   ],
   "source": [
    "dataset = sets[16]\n",
    "dataset.metadata_doc[\"properties\"]"
   ],
   "metadata": {
    "collapsed": false,
    "pycharm": {
     "name": "#%%\n"
    }
   }
  },
  {
   "cell_type": "code",
   "execution_count": 10,
   "outputs": [],
   "source": [
    "offset = 40000  # offset from edges\n",
    "b = dataset.bounds\n",
    "ds = dc.load(product='s2a_level1c_granule',\n",
    "             dask_chunks={},\n",
    "             output_crs='epsg:32635',\n",
    "             resolution=(-10,10),\n",
    "             x=(b.left+offset, b.right-offset),\n",
    "             y=(b.top-offset, b.bottom+offset),\n",
    "             crs=\"epsg:32635\",\n",
    "             datasets=[dataset])\n",
    "geotrans = ds.geobox.transform.to_gdal()\n",
    "prj = ds.geobox.crs.wkt"
   ],
   "metadata": {
    "collapsed": false,
    "pycharm": {
     "name": "#%%\n"
    }
   }
  },
  {
   "cell_type": "code",
   "execution_count": 93,
   "outputs": [],
   "source": [
    "tile_id = dataset.metadata_doc[\"properties\"][\"tile_id\"]\n",
    "dataset_id = dataset.id\n",
    "tile_props = dataset.metadata_doc[\"properties\"]\n",
    "shadow_azimuth = 90-tile_props[\"mean_sun_azimuth\"]\n",
    "CLR_PRJ_DIST = 1  # maximum distance to search for cloud shadows from cloud edges\n",
    "az = np.deg2rad(tile_props[\"mean_sun_azimuth\"])\n",
    "x = np.math.cos(az)\n",
    "y = np.math.sin(az)\n",
    "shift_distance = 30\n",
    "x *= shift_distance\n",
    "y *= shift_distance"
   ],
   "metadata": {
    "collapsed": false,
    "pycharm": {
     "name": "#%%\n"
    }
   }
  },
  {
   "cell_type": "code",
   "execution_count": 94,
   "outputs": [],
   "source": [
    "# create rgb image\n",
    "bands = ['B02', 'B03', 'B04']\n",
    "values = [np.squeeze(ds[band].values.astype('float64')) / 10000 for band in bands]\n",
    "# values = [np.squeeze(v) for v in values]\n",
    "# values = [v.astype('float64') for v in values]\n",
    "# values = [v / 10000 for v in values]\n",
    "array_to_geotiff_multiband(f'/home/mikael/s2data/{tile_id}_rgb.tif', values, geotrans, prj)"
   ],
   "metadata": {
    "collapsed": false,
    "pycharm": {
     "name": "#%%\n"
    }
   }
  },
  {
   "cell_type": "code",
   "execution_count": 12,
   "outputs": [
    {
     "name": "stdout",
     "output_type": "stream",
     "text": [
      "(13, 1, 2980, 2980)\n",
      "(1, 2980, 2980, 13)\n"
     ]
    }
   ],
   "source": [
    "arr = ds.to_array().values.astype('float64')\n",
    "arr /= 10000\n",
    "print(arr.shape)\n",
    "arr = np.moveaxis(arr, 0, -1)  # shift to n_images, x, y, n_bands\n",
    "print(arr.shape)"
   ],
   "metadata": {
    "collapsed": false,
    "pycharm": {
     "name": "#%%\n"
    }
   }
  },
  {
   "cell_type": "code",
   "execution_count": 13,
   "outputs": [
    {
     "name": "stdout",
     "output_type": "stream",
     "text": [
      "(1, 2980, 2980)\n",
      "(2980, 2980)\n"
     ]
    }
   ],
   "source": [
    "from s2cloudless import S2PixelCloudDetector\n",
    "cloud_detector = S2PixelCloudDetector(threshold=0.3, average_over=1, dilation_size=1, all_bands=True)\n",
    "cloud_masks = cloud_detector.get_cloud_masks(arr)\n",
    "cloud_masks = np.squeeze(cloud_masks)\n",
    "rows, cols = cloud_masks.shape"
   ],
   "metadata": {
    "collapsed": false,
    "pycharm": {
     "name": "#%%\n"
    }
   }
  },
  {
   "cell_type": "code",
   "execution_count": 84,
   "outputs": [
    {
     "name": "stdout",
     "output_type": "stream",
     "text": [
      "(2980, 17) (24, 2980)\n"
     ]
    }
   ],
   "source": [
    "new_rows = np.zeros((abs(int(y)), cols))\n",
    "new_cols = np.zeros((rows, abs(int(x))))\n",
    "new_rows[:] = 2\n",
    "new_cols[:] = 2\n",
    "print(new_cols.shape, new_rows.shape)"
   ],
   "metadata": {
    "collapsed": false,
    "pycharm": {
     "name": "#%%\n"
    }
   }
  },
  {
   "cell_type": "code",
   "execution_count": 85,
   "outputs": [
    {
     "name": "stdout",
     "output_type": "stream",
     "text": [
      "(2980, 2980)\n",
      "(2980, 2980)\n",
      "(2980, 2980)\n"
     ]
    }
   ],
   "source": [
    "cm0 = cloud_masks.copy()\n",
    "print(cm0.shape)\n",
    "if y > 0:\n",
    "    cm1 = np.append(cm0, new_rows, axis=0)\n",
    "    cm1 = cm1[int(y):, :]\n",
    "    # cm1 = cm1[abs(int(y)):, :]\n",
    "else:\n",
    "    cm1 = np.append(new_rows, cm0, axis=0)\n",
    "    cm1 = cm1[:int(y), :]\n",
    "    # cm1 = cm1[:-int(y), :]\n",
    "print(cm1.shape)\n",
    "if x < 0:\n",
    "    cm2 = np.append(new_cols, cm1, axis=1)\n",
    "    cm2 = cm2[:, :int(x)]\n",
    "else:\n",
    "    cm2 = np.append(cm1, new_cols, axis=1)\n",
    "    cm2 = cm2[:, int(x):]\n",
    "print(cm2.shape)"
   ],
   "metadata": {
    "collapsed": false,
    "pycharm": {
     "name": "#%%\n"
    }
   }
  },
  {
   "cell_type": "code",
   "execution_count": 89,
   "outputs": [],
   "source": [
    "nir = arr[:, :, :, 7]\n",
    "dark_pixels = np.squeeze(np.where(nir <= 0.15, 1, 0))"
   ],
   "metadata": {
    "collapsed": false,
    "pycharm": {
     "name": "#%%\n"
    }
   }
  },
  {
   "cell_type": "code",
   "execution_count": 90,
   "outputs": [],
   "source": [
    "cloud_shadows = np.where((cloud_masks == 0) & (cm2 == 1) & (dark_pixels == 1), 1, 0)"
   ],
   "metadata": {
    "collapsed": false,
    "pycharm": {
     "name": "#%%\n"
    }
   }
  },
  {
   "cell_type": "code",
   "execution_count": 82,
   "outputs": [],
   "source": [
    "# non-directional shadow masking\n",
    "# from scipy import ndimage\n",
    "# cld_proj = ndimage.distance_transform_edt(np.invert(cloud_masks) + 2)  # TODO: perform directional distance transform\n",
    "# cld_proj = np.where((cld_proj < 40) & (cld_proj > 0), True, False)\n",
    "# both = np.where(dark_pixels & cld_proj, True, False)\n",
    "# nocloud = np.where(both & (cloud_masks != 1), True, False)"
   ],
   "metadata": {
    "collapsed": false,
    "pycharm": {
     "name": "#%%\n"
    }
   }
  },
  {
   "cell_type": "code",
   "execution_count": 92,
   "outputs": [],
   "source": [
    "cloud_shadow_values = [cloud_shadows]\n",
    "array_to_geotiff_multiband(f'/home/mikael/s2data/{tile_id}_shadows.tif', cloud_shadow_values, geotrans, prj)\n",
    "cloud_mask_values = [cloud_masks]\n",
    "array_to_geotiff_multiband(f'/home/mikael/s2data/{tile_id}_clouds.tif', cloud_mask_values, geotrans, prj)"
   ],
   "metadata": {
    "collapsed": false,
    "pycharm": {
     "name": "#%%\n"
    }
   }
  }
 ],
 "metadata": {
  "kernelspec": {
   "display_name": "Python 3",
   "language": "python",
   "name": "python3"
  },
  "language_info": {
   "codemirror_mode": {
    "name": "ipython",
    "version": 2
   },
   "file_extension": ".py",
   "mimetype": "text/x-python",
   "name": "python",
   "nbconvert_exporter": "python",
   "pygments_lexer": "ipython2",
   "version": "2.7.6"
  }
 },
 "nbformat": 4,
 "nbformat_minor": 0
}