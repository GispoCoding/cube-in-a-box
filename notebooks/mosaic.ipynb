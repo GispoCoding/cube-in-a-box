{
 "cells": [
  {
   "cell_type": "code",
   "execution_count": 16,
   "metadata": {
    "collapsed": true
   },
   "outputs": [],
   "source": [
    "import datacube\n",
    "dc = datacube.Datacube(app='Sentinel_2')\n",
    "\n",
    "lat, lon = 9.6, 28.43\n",
    "buffer = 0.005\n",
    "query = {\n",
    "    'time': ('2020-10-1', '2020-10-10'),\n",
    "    'x': (lon - buffer, lon + buffer),\n",
    "    'y': (lat + buffer, lat - buffer),\n",
    "    'output_crs': 'epsg:32635',\n",
    "    'resolution': (-10, 10)\n",
    "}"
   ]
  },
  {
   "cell_type": "code",
   "execution_count": 17,
   "outputs": [
    {
     "ename": "ValueError",
     "evalue": "Must specify a product or supply datasets",
     "output_type": "error",
     "traceback": [
      "\u001B[0;31m---------------------------------------------------------------------------\u001B[0m",
      "\u001B[0;31mValueError\u001B[0m                                Traceback (most recent call last)",
      "\u001B[0;32m<ipython-input-17-c2fd59e8ebcf>\u001B[0m in \u001B[0;36m<module>\u001B[0;34m\u001B[0m\n\u001B[1;32m      1\u001B[0m \u001B[0;31m#from utils.deafrica_datahandling import load_ard\u001B[0m\u001B[0;34m\u001B[0m\u001B[0;34m\u001B[0m\u001B[0;34m\u001B[0m\u001B[0m\n\u001B[1;32m      2\u001B[0m \u001B[0mbands\u001B[0m \u001B[0;34m=\u001B[0m \u001B[0;34m[\u001B[0m\u001B[0;34m'blue'\u001B[0m\u001B[0;34m,\u001B[0m \u001B[0;34m'green'\u001B[0m\u001B[0;34m,\u001B[0m \u001B[0;34m'red'\u001B[0m\u001B[0;34m,\u001B[0m \u001B[0;34m'SCL'\u001B[0m\u001B[0;34m]\u001B[0m\u001B[0;34m\u001B[0m\u001B[0;34m\u001B[0m\u001B[0m\n\u001B[0;32m----> 3\u001B[0;31m ds = dc.load(poduct='s2_l2a',\n\u001B[0m\u001B[1;32m      4\u001B[0m              \u001B[0mmeasurements\u001B[0m\u001B[0;34m=\u001B[0m\u001B[0mbands\u001B[0m\u001B[0;34m,\u001B[0m\u001B[0;34m\u001B[0m\u001B[0;34m\u001B[0m\u001B[0m\n\u001B[1;32m      5\u001B[0m              \u001B[0mdask_chunks\u001B[0m\u001B[0;34m=\u001B[0m\u001B[0;34m{\u001B[0m\u001B[0;34m}\u001B[0m\u001B[0;34m,\u001B[0m\u001B[0;34m\u001B[0m\u001B[0;34m\u001B[0m\u001B[0m\n",
      "\u001B[0;32m~/.conda/envs/odc/lib/python3.9/site-packages/datacube/api/core.py\u001B[0m in \u001B[0;36mload\u001B[0;34m(self, product, measurements, output_crs, resolution, resampling, skip_broken_datasets, dask_chunks, like, fuse_func, align, datasets, progress_cbk, **query)\u001B[0m\n\u001B[1;32m    287\u001B[0m         \"\"\"\n\u001B[1;32m    288\u001B[0m         \u001B[0;32mif\u001B[0m \u001B[0mproduct\u001B[0m \u001B[0;32mis\u001B[0m \u001B[0;32mNone\u001B[0m \u001B[0;32mand\u001B[0m \u001B[0mdatasets\u001B[0m \u001B[0;32mis\u001B[0m \u001B[0;32mNone\u001B[0m\u001B[0;34m:\u001B[0m\u001B[0;34m\u001B[0m\u001B[0;34m\u001B[0m\u001B[0m\n\u001B[0;32m--> 289\u001B[0;31m             \u001B[0;32mraise\u001B[0m \u001B[0mValueError\u001B[0m\u001B[0;34m(\u001B[0m\u001B[0;34m\"Must specify a product or supply datasets\"\u001B[0m\u001B[0;34m)\u001B[0m\u001B[0;34m\u001B[0m\u001B[0;34m\u001B[0m\u001B[0m\n\u001B[0m\u001B[1;32m    290\u001B[0m \u001B[0;34m\u001B[0m\u001B[0m\n\u001B[1;32m    291\u001B[0m         \u001B[0;32mif\u001B[0m \u001B[0mdatasets\u001B[0m \u001B[0;32mis\u001B[0m \u001B[0;32mNone\u001B[0m\u001B[0;34m:\u001B[0m\u001B[0;34m\u001B[0m\u001B[0;34m\u001B[0m\u001B[0m\n",
      "\u001B[0;31mValueError\u001B[0m: Must specify a product or supply datasets"
     ]
    }
   ],
   "source": [
    "#from utils.deafrica_datahandling import load_ard\n",
    "bands = ['blue', 'green', 'red', 'SCL']\n",
    "ds = dc.load(poduct='s2_l2a',\n",
    "             measurements=bands,\n",
    "             dask_chunks={},\n",
    "             **query)\n",
    "ds"
   ],
   "metadata": {
    "collapsed": false,
    "pycharm": {
     "name": "#%%\n"
    }
   }
  },
  {
   "cell_type": "code",
   "execution_count": 11,
   "outputs": [
    {
     "ename": "ValueError",
     "evalue": "Can't determine shape from dimension names: ",
     "output_type": "error",
     "traceback": [
      "\u001B[0;31m---------------------------------------------------------------------------\u001B[0m",
      "\u001B[0;31mValueError\u001B[0m                                Traceback (most recent call last)",
      "\u001B[0;32m<ipython-input-11-41b9ae4f534b>\u001B[0m in \u001B[0;36m<module>\u001B[0;34m\u001B[0m\n\u001B[1;32m      1\u001B[0m \u001B[0;32mfrom\u001B[0m \u001B[0mutils\u001B[0m\u001B[0;34m.\u001B[0m\u001B[0mdeafrica_plotting\u001B[0m \u001B[0;32mimport\u001B[0m \u001B[0mrgb\u001B[0m\u001B[0;34m\u001B[0m\u001B[0;34m\u001B[0m\u001B[0m\n\u001B[0;32m----> 2\u001B[0;31m \u001B[0mrgb\u001B[0m\u001B[0;34m(\u001B[0m\u001B[0mds\u001B[0m\u001B[0;34m,\u001B[0m \u001B[0mcol\u001B[0m\u001B[0;34m=\u001B[0m\u001B[0;34m'time'\u001B[0m\u001B[0;34m,\u001B[0m \u001B[0msize\u001B[0m\u001B[0;34m=\u001B[0m\u001B[0;36m12\u001B[0m\u001B[0;34m)\u001B[0m\u001B[0;34m\u001B[0m\u001B[0;34m\u001B[0m\u001B[0m\n\u001B[0m\u001B[1;32m      3\u001B[0m \u001B[0;34m\u001B[0m\u001B[0m\n",
      "\u001B[0;32m~/git/cube-in-a-box-gispo/notebooks/utils/deafrica_plotting.py\u001B[0m in \u001B[0;36mrgb\u001B[0;34m(ds, bands, index, index_dim, robust, percentile_stretch, col_wrap, size, aspect, savefig_path, savefig_kwargs, **kwargs)\u001B[0m\n\u001B[1;32m    158\u001B[0m         \u001B[0;31m# Compute image aspect\u001B[0m\u001B[0;34m\u001B[0m\u001B[0;34m\u001B[0m\u001B[0;34m\u001B[0m\u001B[0m\n\u001B[1;32m    159\u001B[0m         \u001B[0;32mif\u001B[0m \u001B[0;32mnot\u001B[0m \u001B[0maspect\u001B[0m\u001B[0;34m:\u001B[0m\u001B[0;34m\u001B[0m\u001B[0;34m\u001B[0m\u001B[0m\n\u001B[0;32m--> 160\u001B[0;31m             \u001B[0maspect\u001B[0m \u001B[0;34m=\u001B[0m \u001B[0mimage_aspect\u001B[0m\u001B[0;34m(\u001B[0m\u001B[0mds\u001B[0m\u001B[0;34m)\u001B[0m\u001B[0;34m\u001B[0m\u001B[0;34m\u001B[0m\u001B[0m\n\u001B[0m\u001B[1;32m    161\u001B[0m \u001B[0;34m\u001B[0m\u001B[0m\n\u001B[1;32m    162\u001B[0m         \u001B[0;31m# Populate aspect size kwarg with aspect and size data\u001B[0m\u001B[0;34m\u001B[0m\u001B[0;34m\u001B[0m\u001B[0;34m\u001B[0m\u001B[0m\n",
      "\u001B[0;32m~/.conda/envs/odc/lib/python3.9/site-packages/odc/ui/_images.py\u001B[0m in \u001B[0;36mimage_aspect\u001B[0;34m(d)\u001B[0m\n\u001B[1;32m     28\u001B[0m \u001B[0;32mdef\u001B[0m \u001B[0mimage_aspect\u001B[0m\u001B[0;34m(\u001B[0m\u001B[0md\u001B[0m\u001B[0;34m)\u001B[0m\u001B[0;34m:\u001B[0m\u001B[0;34m\u001B[0m\u001B[0;34m\u001B[0m\u001B[0m\n\u001B[1;32m     29\u001B[0m     \u001B[0;34m\"\"\"Given xarray Dataset|DataArray compute image aspect ratio\"\"\"\u001B[0m\u001B[0;34m\u001B[0m\u001B[0;34m\u001B[0m\u001B[0m\n\u001B[0;32m---> 30\u001B[0;31m     \u001B[0mh\u001B[0m\u001B[0;34m,\u001B[0m \u001B[0mw\u001B[0m \u001B[0;34m=\u001B[0m \u001B[0mimage_shape\u001B[0m\u001B[0;34m(\u001B[0m\u001B[0md\u001B[0m\u001B[0;34m)\u001B[0m\u001B[0;34m\u001B[0m\u001B[0;34m\u001B[0m\u001B[0m\n\u001B[0m\u001B[1;32m     31\u001B[0m     \u001B[0;32mreturn\u001B[0m \u001B[0mw\u001B[0m \u001B[0;34m/\u001B[0m \u001B[0mh\u001B[0m\u001B[0;34m\u001B[0m\u001B[0;34m\u001B[0m\u001B[0m\n\u001B[1;32m     32\u001B[0m \u001B[0;34m\u001B[0m\u001B[0m\n",
      "\u001B[0;32m~/.conda/envs/odc/lib/python3.9/site-packages/odc/ui/_images.py\u001B[0m in \u001B[0;36mimage_shape\u001B[0;34m(d)\u001B[0m\n\u001B[1;32m     19\u001B[0m \u001B[0;34m\u001B[0m\u001B[0m\n\u001B[1;32m     20\u001B[0m     \u001B[0;32mif\u001B[0m \u001B[0mh\u001B[0m \u001B[0;32mis\u001B[0m \u001B[0;32mNone\u001B[0m\u001B[0;34m:\u001B[0m\u001B[0;34m\u001B[0m\u001B[0;34m\u001B[0m\u001B[0m\n\u001B[0;32m---> 21\u001B[0;31m         raise ValueError(\n\u001B[0m\u001B[1;32m     22\u001B[0m             \u001B[0;34m\"Can't determine shape from dimension names: {}\"\u001B[0m\u001B[0;34m.\u001B[0m\u001B[0mformat\u001B[0m\u001B[0;34m(\u001B[0m\u001B[0;34m\" \"\u001B[0m\u001B[0;34m.\u001B[0m\u001B[0mjoin\u001B[0m\u001B[0;34m(\u001B[0m\u001B[0mdims\u001B[0m\u001B[0;34m)\u001B[0m\u001B[0;34m)\u001B[0m\u001B[0;34m\u001B[0m\u001B[0;34m\u001B[0m\u001B[0m\n\u001B[1;32m     23\u001B[0m         )\n",
      "\u001B[0;31mValueError\u001B[0m: Can't determine shape from dimension names: "
     ]
    }
   ],
   "source": [
    "from utils.deafrica_plotting import rgb\n",
    "rgb(ds, col='time', size=12)"
   ],
   "metadata": {
    "collapsed": false,
    "pycharm": {
     "name": "#%%\n"
    }
   }
  },
  {
   "cell_type": "code",
   "execution_count": 4,
   "outputs": [],
   "source": [
    "from xarray import DataArray\n",
    "import numpy as np\n",
    "from typing import Union\n",
    "\n",
    "def create_s2_mosaic(dataset_in: DataArray, no_data: Union[int, float] = 0) -> (DataArray, DataArray):\n",
    "    \"\"\" Creates a most-recent-to-oldest mosaic of the input dataset.\n",
    "\n",
    "    dataset_in: A dataset retrieved from the Data Cube; should contain:\n",
    "        coordinates: time, latitude, longitude\n",
    "        variables: variables to be mosaicked (e.g. red, green, and blue bands)\n",
    "    no_data: No data value, default 0 \"\"\"\n",
    "    dataset_in = dataset_in.copy(deep=True)\n",
    "    dataset_keys = list(dataset_in.data_vars)\n",
    "    dataset_out = dataset_in.isel(time=-1).drop('time').copy(deep=True)\n",
    "    dataset_out_array = dataset_out.values\n",
    "    cols, rows = dataset_out.sizes['x'], dataset_out.sizes['y']\n",
    "    # utilities.clear_attrs(dataset_out)  # TODO: import\n",
    "    # dataset_out_vals = {key: dataset_out[key].values for key in dataset_keys}\n",
    "\n",
    "    latest_time = ds.time[-1].values.astype('datetime64[D]').astype('uint16')\n",
    "    recentness_matrix = np.empty((rows, cols), dtype=np.uint16)\n",
    "    recentness_matrix[:] = latest_time\n",
    "\n",
    "    for index in range(len(dataset_in.time) - 2, -1, -1):\n",
    "        dataset_slice = dataset_in.isel(time=index).drop('time')\n",
    "        dataset_slice_time = dataset_in.time[index].values.astype('datetime64[D]').astype('uint16')\n",
    "        recentness_matrix[dataset_out_array == 0] = dataset_slice_time\n",
    "        dataset_out_array[dataset_out_array == 0] = dataset_slice.values[dataset_out_array == 0]\n",
    "\n",
    "    \"\"\"\n",
    "    for index in range(len(dataset_in.time) - 2, -1, -1):\n",
    "        dataset_slice = dataset_in.isel(time=index).drop('time')\n",
    "        dataset_slice_time = dataset_in.time[index].values.astype('datetime64[D]').astype('uint16')\n",
    "        for key in dataset_keys:\n",
    "            dataset_slice_values = None\n",
    "            for i in range(rows):\n",
    "                for j in range(cols):\n",
    "                    val = dataset_out_vals[key][i][j]\n",
    "                    if np.isnan(val) or val == no_data:\n",
    "                        if dataset_slice_values is None:\n",
    "                            dataset_slice_values = dataset_slice[key].values\n",
    "                        dataset_out_vals[key][i][j] = dataset_slice_values[i][j]\n",
    "                        recentness_matrix[i][j] = dataset_slice_time\n",
    "    \"\"\"\n",
    "\n",
    "    dataset_out.values = dataset_out_array\n",
    "    # for key in list(dataset_out.data_vars):\n",
    "    #     dataset_out[key].values = dataset_out_vals[key]\n",
    "    recentness_data = dataset_out.copy(deep=True)\n",
    "    recentness_data.values = recentness_matrix\n",
    "    # TODO: return a DataSet instead of (DataArray, DataArray)\n",
    "    return dataset_out, recentness_data"
   ],
   "metadata": {
    "collapsed": false,
    "pycharm": {
     "name": "#%%\n"
    }
   }
  },
  {
   "cell_type": "code",
   "execution_count": 26,
   "outputs": [],
   "source": [
    "r = ds.red\n",
    "latest_r = r.isel(time=-1).drop('time')\n",
    "r_arr = np.nan_to_num(latest_r.values, copy=False)\n",
    "next_r = r.isel(time=-2).drop('time')\n",
    "r_arr[r_arr==0] = next_r.values[r_arr==0]"
   ],
   "metadata": {
    "collapsed": false,
    "pycharm": {
     "name": "#%%\n"
    }
   }
  }
 ],
 "metadata": {
  "kernelspec": {
   "display_name": "Python 3",
   "language": "python",
   "name": "python3"
  },
  "language_info": {
   "codemirror_mode": {
    "name": "ipython",
    "version": 2
   },
   "file_extension": ".py",
   "mimetype": "text/x-python",
   "name": "python",
   "nbconvert_exporter": "python",
   "pygments_lexer": "ipython2",
   "version": "2.7.6"
  }
 },
 "nbformat": 4,
 "nbformat_minor": 0
}